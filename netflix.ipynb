{
 "cells": [
  {
   "cell_type": "code",
   "execution_count": null,
   "id": "9daf15d4-663b-486c-ab86-4d2730017715",
   "metadata": {},
   "outputs": [],
   "source": [
    "#Data prep"
   ]
  },
  {
   "cell_type": "code",
   "execution_count": 2,
   "id": "38caa879-85f0-4264-88d2-51048a0a6967",
   "metadata": {},
   "outputs": [
    {
     "name": "stdout",
     "output_type": "stream",
     "text": [
      "Collecting pandas\n",
      "  Downloading pandas-2.3.0-cp313-cp313-macosx_11_0_arm64.whl.metadata (91 kB)\n",
      "Collecting numpy>=1.26.0 (from pandas)\n",
      "  Downloading numpy-2.3.0-cp313-cp313-macosx_14_0_arm64.whl.metadata (62 kB)\n",
      "Requirement already satisfied: python-dateutil>=2.8.2 in /Library/Frameworks/Python.framework/Versions/3.13/lib/python3.13/site-packages (from pandas) (2.9.0.post0)\n",
      "Collecting pytz>=2020.1 (from pandas)\n",
      "  Using cached pytz-2025.2-py2.py3-none-any.whl.metadata (22 kB)\n",
      "Collecting tzdata>=2022.7 (from pandas)\n",
      "  Using cached tzdata-2025.2-py2.py3-none-any.whl.metadata (1.4 kB)\n",
      "Requirement already satisfied: six>=1.5 in /Library/Frameworks/Python.framework/Versions/3.13/lib/python3.13/site-packages (from python-dateutil>=2.8.2->pandas) (1.17.0)\n",
      "Downloading pandas-2.3.0-cp313-cp313-macosx_11_0_arm64.whl (10.7 MB)\n",
      "\u001b[2K   \u001b[90m━━━━━━━━━━━━━━━━━━━━━━━━━━━━━━━━━━━━━━━━\u001b[0m \u001b[32m10.7/10.7 MB\u001b[0m \u001b[31m8.2 MB/s\u001b[0m eta \u001b[36m0:00:00\u001b[0ma \u001b[36m0:00:01\u001b[0m\n",
      "\u001b[?25hDownloading numpy-2.3.0-cp313-cp313-macosx_14_0_arm64.whl (5.1 MB)\n",
      "\u001b[2K   \u001b[90m━━━━━━━━━━━━━━━━━━━━━━━━━━━━━━━━━━━━━━━━\u001b[0m \u001b[32m5.1/5.1 MB\u001b[0m \u001b[31m8.5 MB/s\u001b[0m eta \u001b[36m0:00:00\u001b[0ma \u001b[36m0:00:01\u001b[0m\n",
      "\u001b[?25hUsing cached pytz-2025.2-py2.py3-none-any.whl (509 kB)\n",
      "Using cached tzdata-2025.2-py2.py3-none-any.whl (347 kB)\n",
      "Installing collected packages: pytz, tzdata, numpy, pandas\n",
      "\u001b[2K   \u001b[90m━━━━━━━━━━━━━━━━━━━━━━━━━━━━━━━━━━━━━━━━\u001b[0m \u001b[32m4/4\u001b[0m [pandas]2m3/4\u001b[0m [pandas]\n",
      "\u001b[1A\u001b[2KSuccessfully installed numpy-2.3.0 pandas-2.3.0 pytz-2025.2 tzdata-2025.2\n"
     ]
    }
   ],
   "source": [
    "!pip install pandas\n"
   ]
  },
  {
   "cell_type": "code",
   "execution_count": 4,
   "id": "c1926335-1b1b-4651-87ba-c9e7ca4415ae",
   "metadata": {},
   "outputs": [],
   "source": [
    "import pandas as pd\n",
    "\n",
    "# Load dataset\n",
    "df = pd.read_csv('/Users/adithyaomsaidupally/Downloads/netflix_sample_500.csv')  # change filename if different\n"
   ]
  },
  {
   "cell_type": "markdown",
   "id": "93fd81af-3b5a-4bbc-94cc-f8799445206d",
   "metadata": {},
   "source": [
    "# 1.\tHow many rows and columns are there in the dataset?"
   ]
  },
  {
   "cell_type": "code",
   "execution_count": 7,
   "id": "37910f68-a76f-488a-912d-9102c6550d96",
   "metadata": {},
   "outputs": [
    {
     "data": {
      "text/plain": [
       "(500, 7)"
      ]
     },
     "execution_count": 7,
     "metadata": {},
     "output_type": "execute_result"
    }
   ],
   "source": [
    "df.shape"
   ]
  },
  {
   "cell_type": "markdown",
   "id": "7de7bbf7-de42-4a34-9def-666b7eb0296c",
   "metadata": {},
   "source": [
    "## 2. Print the names of all the columns"
   ]
  },
  {
   "cell_type": "code",
   "execution_count": 12,
   "id": "a7160d33-c862-4b51-a280-921a9a7eaa99",
   "metadata": {},
   "outputs": [
    {
     "data": {
      "text/plain": [
       "['title',\n",
       " 'director',\n",
       " 'cast',\n",
       " 'country',\n",
       " 'date_added',\n",
       " 'release_year',\n",
       " 'duration']"
      ]
     },
     "execution_count": 12,
     "metadata": {},
     "output_type": "execute_result"
    }
   ],
   "source": [
    "df.columns.tolist()"
   ]
  },
  {
   "cell_type": "markdown",
   "id": "f85e38fc-0fc8-43ed-a3a3-01a0c54de8f3",
   "metadata": {},
   "source": [
    "## 3.\tDisplay the first 5 and last 3 rows of the dataset."
   ]
  },
  {
   "cell_type": "code",
   "execution_count": 13,
   "id": "699fcb19-8b46-4cc5-b2e8-33e6b87bd8d1",
   "metadata": {},
   "outputs": [
    {
     "data": {
      "text/html": [
       "<div>\n",
       "<style scoped>\n",
       "    .dataframe tbody tr th:only-of-type {\n",
       "        vertical-align: middle;\n",
       "    }\n",
       "\n",
       "    .dataframe tbody tr th {\n",
       "        vertical-align: top;\n",
       "    }\n",
       "\n",
       "    .dataframe thead th {\n",
       "        text-align: right;\n",
       "    }\n",
       "</style>\n",
       "<table border=\"1\" class=\"dataframe\">\n",
       "  <thead>\n",
       "    <tr style=\"text-align: right;\">\n",
       "      <th></th>\n",
       "      <th>title</th>\n",
       "      <th>director</th>\n",
       "      <th>cast</th>\n",
       "      <th>country</th>\n",
       "      <th>date_added</th>\n",
       "      <th>release_year</th>\n",
       "      <th>duration</th>\n",
       "    </tr>\n",
       "  </thead>\n",
       "  <tbody>\n",
       "    <tr>\n",
       "      <th>0</th>\n",
       "      <td>Game Over, Man!</td>\n",
       "      <td>Kyle Newacheck</td>\n",
       "      <td>Adam DeVine, Anders Holm, Blake Anderson, Utka...</td>\n",
       "      <td>United States</td>\n",
       "      <td>March 23, 2018</td>\n",
       "      <td>2018</td>\n",
       "      <td>102 min</td>\n",
       "    </tr>\n",
       "    <tr>\n",
       "      <th>1</th>\n",
       "      <td>Arsenio Hall: Smart &amp; Classy</td>\n",
       "      <td>Brian Volk-Weiss</td>\n",
       "      <td>Arsenio Hall</td>\n",
       "      <td>United States</td>\n",
       "      <td>October 29, 2019</td>\n",
       "      <td>2019</td>\n",
       "      <td>63 min</td>\n",
       "    </tr>\n",
       "    <tr>\n",
       "      <th>2</th>\n",
       "      <td>Kazoops!</td>\n",
       "      <td>NaN</td>\n",
       "      <td>Reece Pockney, Scott Langley, Alex Babic, Gemm...</td>\n",
       "      <td>Australia</td>\n",
       "      <td>May 5, 2017</td>\n",
       "      <td>2017</td>\n",
       "      <td>3 Seasons</td>\n",
       "    </tr>\n",
       "    <tr>\n",
       "      <th>3</th>\n",
       "      <td>We Are the Champions</td>\n",
       "      <td>NaN</td>\n",
       "      <td>NaN</td>\n",
       "      <td>United States</td>\n",
       "      <td>November 17, 2020</td>\n",
       "      <td>2020</td>\n",
       "      <td>1 Season</td>\n",
       "    </tr>\n",
       "    <tr>\n",
       "      <th>4</th>\n",
       "      <td>Pablo Escobar, el patrón del mal</td>\n",
       "      <td>NaN</td>\n",
       "      <td>Andrés Parra, Angie Cepeda, Cecilia Navia, Vic...</td>\n",
       "      <td>Colombia</td>\n",
       "      <td>February 3, 2021</td>\n",
       "      <td>2012</td>\n",
       "      <td>1 Season</td>\n",
       "    </tr>\n",
       "  </tbody>\n",
       "</table>\n",
       "</div>"
      ],
      "text/plain": [
       "                              title          director  \\\n",
       "0                   Game Over, Man!    Kyle Newacheck   \n",
       "1      Arsenio Hall: Smart & Classy  Brian Volk-Weiss   \n",
       "2                          Kazoops!               NaN   \n",
       "3              We Are the Champions               NaN   \n",
       "4  Pablo Escobar, el patrón del mal               NaN   \n",
       "\n",
       "                                                cast        country  \\\n",
       "0  Adam DeVine, Anders Holm, Blake Anderson, Utka...  United States   \n",
       "1                                       Arsenio Hall  United States   \n",
       "2  Reece Pockney, Scott Langley, Alex Babic, Gemm...      Australia   \n",
       "3                                                NaN  United States   \n",
       "4  Andrés Parra, Angie Cepeda, Cecilia Navia, Vic...       Colombia   \n",
       "\n",
       "          date_added  release_year   duration  \n",
       "0     March 23, 2018          2018    102 min  \n",
       "1   October 29, 2019          2019     63 min  \n",
       "2        May 5, 2017          2017  3 Seasons  \n",
       "3  November 17, 2020          2020   1 Season  \n",
       "4   February 3, 2021          2012   1 Season  "
      ]
     },
     "execution_count": 13,
     "metadata": {},
     "output_type": "execute_result"
    }
   ],
   "source": [
    "df.head(5)"
   ]
  },
  {
   "cell_type": "code",
   "execution_count": 14,
   "id": "9eea1063-953d-48fa-bfc4-a431d9d206d7",
   "metadata": {},
   "outputs": [
    {
     "data": {
      "text/html": [
       "<div>\n",
       "<style scoped>\n",
       "    .dataframe tbody tr th:only-of-type {\n",
       "        vertical-align: middle;\n",
       "    }\n",
       "\n",
       "    .dataframe tbody tr th {\n",
       "        vertical-align: top;\n",
       "    }\n",
       "\n",
       "    .dataframe thead th {\n",
       "        text-align: right;\n",
       "    }\n",
       "</style>\n",
       "<table border=\"1\" class=\"dataframe\">\n",
       "  <thead>\n",
       "    <tr style=\"text-align: right;\">\n",
       "      <th></th>\n",
       "      <th>title</th>\n",
       "      <th>director</th>\n",
       "      <th>cast</th>\n",
       "      <th>country</th>\n",
       "      <th>date_added</th>\n",
       "      <th>release_year</th>\n",
       "      <th>duration</th>\n",
       "    </tr>\n",
       "  </thead>\n",
       "  <tbody>\n",
       "    <tr>\n",
       "      <th>497</th>\n",
       "      <td>Korean Cold Noodle Rhapsody</td>\n",
       "      <td>NaN</td>\n",
       "      <td>Paik Jong-won</td>\n",
       "      <td>NaN</td>\n",
       "      <td>August 20, 2021</td>\n",
       "      <td>2021</td>\n",
       "      <td>1 Season</td>\n",
       "    </tr>\n",
       "    <tr>\n",
       "      <th>498</th>\n",
       "      <td>Look for a Star</td>\n",
       "      <td>Andrew Lau Wai-Keung</td>\n",
       "      <td>Andy Lau, Qi Shu, Zhang Hanyu, Denise Ho, Domi...</td>\n",
       "      <td>Hong Kong</td>\n",
       "      <td>December 1, 2018</td>\n",
       "      <td>2009</td>\n",
       "      <td>117 min</td>\n",
       "    </tr>\n",
       "    <tr>\n",
       "      <th>499</th>\n",
       "      <td>40 Sticks</td>\n",
       "      <td>Victor Gatonye</td>\n",
       "      <td>Robert Agengo, Mwaura Bilal, Andreo Kamau, Caj...</td>\n",
       "      <td>Kenya</td>\n",
       "      <td>November 20, 2020</td>\n",
       "      <td>2019</td>\n",
       "      <td>93 min</td>\n",
       "    </tr>\n",
       "  </tbody>\n",
       "</table>\n",
       "</div>"
      ],
      "text/plain": [
       "                           title              director  \\\n",
       "497  Korean Cold Noodle Rhapsody                   NaN   \n",
       "498              Look for a Star  Andrew Lau Wai-Keung   \n",
       "499                    40 Sticks        Victor Gatonye   \n",
       "\n",
       "                                                  cast    country  \\\n",
       "497                                      Paik Jong-won        NaN   \n",
       "498  Andy Lau, Qi Shu, Zhang Hanyu, Denise Ho, Domi...  Hong Kong   \n",
       "499  Robert Agengo, Mwaura Bilal, Andreo Kamau, Caj...      Kenya   \n",
       "\n",
       "            date_added  release_year  duration  \n",
       "497    August 20, 2021          2021  1 Season  \n",
       "498   December 1, 2018          2009   117 min  \n",
       "499  November 20, 2020          2019    93 min  "
      ]
     },
     "execution_count": 14,
     "metadata": {},
     "output_type": "execute_result"
    }
   ],
   "source": [
    "df.tail(3)"
   ]
  },
  {
   "cell_type": "markdown",
   "id": "4ced35e6-ea64-415c-a2fb-f49a013c3b33",
   "metadata": {},
   "source": [
    "## 4.\tSelect and display only the title and release_year columns."
   ]
  },
  {
   "cell_type": "code",
   "execution_count": 15,
   "id": "e64db28f-0bab-4301-9135-9f36f84a2f0a",
   "metadata": {},
   "outputs": [
    {
     "data": {
      "text/html": [
       "<div>\n",
       "<style scoped>\n",
       "    .dataframe tbody tr th:only-of-type {\n",
       "        vertical-align: middle;\n",
       "    }\n",
       "\n",
       "    .dataframe tbody tr th {\n",
       "        vertical-align: top;\n",
       "    }\n",
       "\n",
       "    .dataframe thead th {\n",
       "        text-align: right;\n",
       "    }\n",
       "</style>\n",
       "<table border=\"1\" class=\"dataframe\">\n",
       "  <thead>\n",
       "    <tr style=\"text-align: right;\">\n",
       "      <th></th>\n",
       "      <th>title</th>\n",
       "      <th>release_year</th>\n",
       "    </tr>\n",
       "  </thead>\n",
       "  <tbody>\n",
       "    <tr>\n",
       "      <th>0</th>\n",
       "      <td>Game Over, Man!</td>\n",
       "      <td>2018</td>\n",
       "    </tr>\n",
       "    <tr>\n",
       "      <th>1</th>\n",
       "      <td>Arsenio Hall: Smart &amp; Classy</td>\n",
       "      <td>2019</td>\n",
       "    </tr>\n",
       "    <tr>\n",
       "      <th>2</th>\n",
       "      <td>Kazoops!</td>\n",
       "      <td>2017</td>\n",
       "    </tr>\n",
       "    <tr>\n",
       "      <th>3</th>\n",
       "      <td>We Are the Champions</td>\n",
       "      <td>2020</td>\n",
       "    </tr>\n",
       "    <tr>\n",
       "      <th>4</th>\n",
       "      <td>Pablo Escobar, el patrón del mal</td>\n",
       "      <td>2012</td>\n",
       "    </tr>\n",
       "    <tr>\n",
       "      <th>...</th>\n",
       "      <td>...</td>\n",
       "      <td>...</td>\n",
       "    </tr>\n",
       "    <tr>\n",
       "      <th>495</th>\n",
       "      <td>Sebastián Marcelo Wainraich</td>\n",
       "      <td>2018</td>\n",
       "    </tr>\n",
       "    <tr>\n",
       "      <th>496</th>\n",
       "      <td>The Mistress</td>\n",
       "      <td>2012</td>\n",
       "    </tr>\n",
       "    <tr>\n",
       "      <th>497</th>\n",
       "      <td>Korean Cold Noodle Rhapsody</td>\n",
       "      <td>2021</td>\n",
       "    </tr>\n",
       "    <tr>\n",
       "      <th>498</th>\n",
       "      <td>Look for a Star</td>\n",
       "      <td>2009</td>\n",
       "    </tr>\n",
       "    <tr>\n",
       "      <th>499</th>\n",
       "      <td>40 Sticks</td>\n",
       "      <td>2019</td>\n",
       "    </tr>\n",
       "  </tbody>\n",
       "</table>\n",
       "<p>500 rows × 2 columns</p>\n",
       "</div>"
      ],
      "text/plain": [
       "                                title  release_year\n",
       "0                     Game Over, Man!          2018\n",
       "1        Arsenio Hall: Smart & Classy          2019\n",
       "2                            Kazoops!          2017\n",
       "3                We Are the Champions          2020\n",
       "4    Pablo Escobar, el patrón del mal          2012\n",
       "..                                ...           ...\n",
       "495       Sebastián Marcelo Wainraich          2018\n",
       "496                      The Mistress          2012\n",
       "497       Korean Cold Noodle Rhapsody          2021\n",
       "498                   Look for a Star          2009\n",
       "499                         40 Sticks          2019\n",
       "\n",
       "[500 rows x 2 columns]"
      ]
     },
     "execution_count": 15,
     "metadata": {},
     "output_type": "execute_result"
    }
   ],
   "source": [
    "df[['title', 'release_year']]\n"
   ]
  },
  {
   "cell_type": "markdown",
   "id": "2efd9f31-7fb9-4e35-b3e5-39da65483763",
   "metadata": {},
   "source": [
    "## 5.\tUsing iloc, show rows 10 to 20 (inclusive)."
   ]
  },
  {
   "cell_type": "code",
   "execution_count": 16,
   "id": "852ae211-8ae8-4809-91e1-0062b4a82371",
   "metadata": {},
   "outputs": [
    {
     "data": {
      "text/html": [
       "<div>\n",
       "<style scoped>\n",
       "    .dataframe tbody tr th:only-of-type {\n",
       "        vertical-align: middle;\n",
       "    }\n",
       "\n",
       "    .dataframe tbody tr th {\n",
       "        vertical-align: top;\n",
       "    }\n",
       "\n",
       "    .dataframe thead th {\n",
       "        text-align: right;\n",
       "    }\n",
       "</style>\n",
       "<table border=\"1\" class=\"dataframe\">\n",
       "  <thead>\n",
       "    <tr style=\"text-align: right;\">\n",
       "      <th></th>\n",
       "      <th>title</th>\n",
       "      <th>director</th>\n",
       "      <th>cast</th>\n",
       "      <th>country</th>\n",
       "      <th>date_added</th>\n",
       "      <th>release_year</th>\n",
       "      <th>duration</th>\n",
       "    </tr>\n",
       "  </thead>\n",
       "  <tbody>\n",
       "    <tr>\n",
       "      <th>10</th>\n",
       "      <td>Drugs, Inc.</td>\n",
       "      <td>NaN</td>\n",
       "      <td>Mike Secher</td>\n",
       "      <td>United States</td>\n",
       "      <td>March 23, 2019</td>\n",
       "      <td>2015</td>\n",
       "      <td>1 Season</td>\n",
       "    </tr>\n",
       "    <tr>\n",
       "      <th>11</th>\n",
       "      <td>Den of Thieves</td>\n",
       "      <td>Christian Gudegast</td>\n",
       "      <td>Gerard Butler, Pablo Schreiber, O'Shea Jackson...</td>\n",
       "      <td>United States</td>\n",
       "      <td>May 1, 2020</td>\n",
       "      <td>2018</td>\n",
       "      <td>140 min</td>\n",
       "    </tr>\n",
       "    <tr>\n",
       "      <th>12</th>\n",
       "      <td>The President's Barber</td>\n",
       "      <td>Chan-sang Lim</td>\n",
       "      <td>Kang-ho Song, So-ri Moon, Jae-eung Lee, Yeong-...</td>\n",
       "      <td>South Korea</td>\n",
       "      <td>October 1, 2017</td>\n",
       "      <td>2004</td>\n",
       "      <td>116 min</td>\n",
       "    </tr>\n",
       "    <tr>\n",
       "      <th>13</th>\n",
       "      <td>The Dirt</td>\n",
       "      <td>Jeff Tremaine</td>\n",
       "      <td>Douglas Booth, Iwan Rheon, Colson Baker, Danie...</td>\n",
       "      <td>United States</td>\n",
       "      <td>March 22, 2019</td>\n",
       "      <td>2019</td>\n",
       "      <td>108 min</td>\n",
       "    </tr>\n",
       "    <tr>\n",
       "      <th>14</th>\n",
       "      <td>Brews Brothers</td>\n",
       "      <td>NaN</td>\n",
       "      <td>Alan Aisenberg, Mike Castle, Carmen Flood, Mar...</td>\n",
       "      <td>United States</td>\n",
       "      <td>April 10, 2020</td>\n",
       "      <td>2020</td>\n",
       "      <td>1 Season</td>\n",
       "    </tr>\n",
       "    <tr>\n",
       "      <th>15</th>\n",
       "      <td>Rodney Carrington: Here Comes the Truth</td>\n",
       "      <td>Brandon Jones</td>\n",
       "      <td>Rodney Carrington</td>\n",
       "      <td>United States</td>\n",
       "      <td>October 3, 2017</td>\n",
       "      <td>2017</td>\n",
       "      <td>66 min</td>\n",
       "    </tr>\n",
       "    <tr>\n",
       "      <th>16</th>\n",
       "      <td>Planet Hulk</td>\n",
       "      <td>Sam Liu</td>\n",
       "      <td>Rick D. Wasserman, Lisa Ann Beley, Mark Hildre...</td>\n",
       "      <td>United States</td>\n",
       "      <td>June 1, 2020</td>\n",
       "      <td>2010</td>\n",
       "      <td>81 min</td>\n",
       "    </tr>\n",
       "    <tr>\n",
       "      <th>17</th>\n",
       "      <td>Tree Man</td>\n",
       "      <td>Jon Reiner, Brad Rothschild</td>\n",
       "      <td>NaN</td>\n",
       "      <td>Canada</td>\n",
       "      <td>November 1, 2016</td>\n",
       "      <td>2015</td>\n",
       "      <td>82 min</td>\n",
       "    </tr>\n",
       "    <tr>\n",
       "      <th>18</th>\n",
       "      <td>Ladies First</td>\n",
       "      <td>Uraaz Bahl</td>\n",
       "      <td>NaN</td>\n",
       "      <td>India</td>\n",
       "      <td>March 8, 2018</td>\n",
       "      <td>2018</td>\n",
       "      <td>40 min</td>\n",
       "    </tr>\n",
       "    <tr>\n",
       "      <th>19</th>\n",
       "      <td>King Jack</td>\n",
       "      <td>Felix Thompson</td>\n",
       "      <td>Charlie Plummer, Cory Nichols, Christian Madse...</td>\n",
       "      <td>United States</td>\n",
       "      <td>July 1, 2016</td>\n",
       "      <td>2015</td>\n",
       "      <td>81 min</td>\n",
       "    </tr>\n",
       "    <tr>\n",
       "      <th>20</th>\n",
       "      <td>I love you, stupid</td>\n",
       "      <td>Laura Mañá</td>\n",
       "      <td>Quim Gutiérrez, Natalia Tena, Alfonso Bassave,...</td>\n",
       "      <td>Spain</td>\n",
       "      <td>May 15, 2020</td>\n",
       "      <td>2019</td>\n",
       "      <td>88 min</td>\n",
       "    </tr>\n",
       "  </tbody>\n",
       "</table>\n",
       "</div>"
      ],
      "text/plain": [
       "                                      title                     director  \\\n",
       "10                              Drugs, Inc.                          NaN   \n",
       "11                           Den of Thieves           Christian Gudegast   \n",
       "12                   The President's Barber                Chan-sang Lim   \n",
       "13                                 The Dirt                Jeff Tremaine   \n",
       "14                           Brews Brothers                          NaN   \n",
       "15  Rodney Carrington: Here Comes the Truth                Brandon Jones   \n",
       "16                              Planet Hulk                      Sam Liu   \n",
       "17                                 Tree Man  Jon Reiner, Brad Rothschild   \n",
       "18                             Ladies First                   Uraaz Bahl   \n",
       "19                                King Jack               Felix Thompson   \n",
       "20                       I love you, stupid                   Laura Mañá   \n",
       "\n",
       "                                                 cast        country  \\\n",
       "10                                        Mike Secher  United States   \n",
       "11  Gerard Butler, Pablo Schreiber, O'Shea Jackson...  United States   \n",
       "12  Kang-ho Song, So-ri Moon, Jae-eung Lee, Yeong-...    South Korea   \n",
       "13  Douglas Booth, Iwan Rheon, Colson Baker, Danie...  United States   \n",
       "14  Alan Aisenberg, Mike Castle, Carmen Flood, Mar...  United States   \n",
       "15                                  Rodney Carrington  United States   \n",
       "16  Rick D. Wasserman, Lisa Ann Beley, Mark Hildre...  United States   \n",
       "17                                                NaN         Canada   \n",
       "18                                                NaN          India   \n",
       "19  Charlie Plummer, Cory Nichols, Christian Madse...  United States   \n",
       "20  Quim Gutiérrez, Natalia Tena, Alfonso Bassave,...          Spain   \n",
       "\n",
       "          date_added  release_year  duration  \n",
       "10    March 23, 2019          2015  1 Season  \n",
       "11       May 1, 2020          2018   140 min  \n",
       "12   October 1, 2017          2004   116 min  \n",
       "13    March 22, 2019          2019   108 min  \n",
       "14    April 10, 2020          2020  1 Season  \n",
       "15   October 3, 2017          2017    66 min  \n",
       "16      June 1, 2020          2010    81 min  \n",
       "17  November 1, 2016          2015    82 min  \n",
       "18     March 8, 2018          2018    40 min  \n",
       "19      July 1, 2016          2015    81 min  \n",
       "20      May 15, 2020          2019    88 min  "
      ]
     },
     "execution_count": 16,
     "metadata": {},
     "output_type": "execute_result"
    }
   ],
   "source": [
    "df.iloc[10:21]  # 21 is exclusive\n"
   ]
  },
  {
   "cell_type": "markdown",
   "id": "f4933dbf-e807-424b-87e3-bc6a8ef9dbf9",
   "metadata": {},
   "source": [
    "## 6.\tCheck for missing values in each column."
   ]
  },
  {
   "cell_type": "code",
   "execution_count": 18,
   "id": "7566fb45-d275-404c-8b96-6b7738007294",
   "metadata": {},
   "outputs": [
    {
     "data": {
      "text/plain": [
       "title             0\n",
       "director        164\n",
       "cast             41\n",
       "country          46\n",
       "date_added        0\n",
       "release_year      0\n",
       "duration          0\n",
       "dtype: int64"
      ]
     },
     "execution_count": 18,
     "metadata": {},
     "output_type": "execute_result"
    }
   ],
   "source": [
    "df.isnull().sum()\n",
    "\n",
    "\n"
   ]
  },
  {
   "cell_type": "markdown",
   "id": "d35e5555-57d0-4d8a-aee4-deed1871a914",
   "metadata": {},
   "source": [
    "## 7.\tFill missing values in the country column with \"Unknown\" and in the director column with \"Not Available\""
   ]
  },
  {
   "cell_type": "code",
   "execution_count": 20,
   "id": "482267f2-c114-4b49-a912-b3de7d18a206",
   "metadata": {},
   "outputs": [],
   "source": [
    "# Fill missing values as per instructions\n",
    "df['country'] = df['country'].fillna('Unknown')\n",
    "df['director'] = df['director'].fillna('Not Available')\n",
    "\n"
   ]
  },
  {
   "cell_type": "markdown",
   "id": "24505bae-3b81-49eb-b6ac-290ee00cd679",
   "metadata": {},
   "source": [
    "## 8.\tReplace \"United States\" with \"USA\" in the country column."
   ]
  },
  {
   "cell_type": "code",
   "execution_count": 21,
   "id": "2fc2624a-aeb9-4b54-b687-c8d458f137c1",
   "metadata": {},
   "outputs": [],
   "source": [
    "df['country'] = df['country'].replace(\"United States\", \"USA\")\n"
   ]
  },
  {
   "cell_type": "markdown",
   "id": "c2f65e1a-818a-4a56-8c0c-ac282681df50",
   "metadata": {},
   "source": [
    "## 9.\tCreate a new column content_type that contains \"Movie\" if duration contains \"min\" and \"TV Show\" if it contains \"Season\"."
   ]
  },
  {
   "cell_type": "code",
   "execution_count": 22,
   "id": "ff32ef98-e370-416e-bc34-725b8821624a",
   "metadata": {},
   "outputs": [],
   "source": [
    "df['content_type'] = df['duration'].apply(\n",
    "    lambda x: 'Movie' if 'min' in str(x) else ('TV Show' if 'Season' in str(x) else 'Unknown')\n",
    ")\n"
   ]
  },
  {
   "cell_type": "markdown",
   "id": "aae5ed30-4d54-47b7-826f-0049c1ba4bfc",
   "metadata": {},
   "source": [
    "## 10.\tAdd a column years_since_release that shows how many years have passed since the release year (assuming current year is 2025)."
   ]
  },
  {
   "cell_type": "code",
   "execution_count": 23,
   "id": "23ec1c58-3520-4aef-91cd-e9f7dac041a4",
   "metadata": {},
   "outputs": [],
   "source": [
    "df['years_since_release'] = 2025 - df['release_year']\n"
   ]
  },
  {
   "cell_type": "markdown",
   "id": "2e5a5781-f1be-49ea-b188-1116215d8d80",
   "metadata": {},
   "source": [
    "## 11.\tGroup the dataset by release_year and count how many shows were released each year."
   ]
  },
  {
   "cell_type": "code",
   "execution_count": 30,
   "id": "fbd2bb16-8f47-41f3-adeb-c4ea5ac6cfb6",
   "metadata": {},
   "outputs": [
    {
     "data": {
      "text/plain": [
       "release_year\n",
       "1943     1\n",
       "1954     1\n",
       "1960     1\n",
       "1962     1\n",
       "1963     1\n",
       "1969     1\n",
       "1973     1\n",
       "1976     1\n",
       "1978     1\n",
       "1979     2\n",
       "1981     1\n",
       "1982     1\n",
       "1985     1\n",
       "1986     2\n",
       "1988     1\n",
       "1990     1\n",
       "1991     1\n",
       "1992     1\n",
       "1993     2\n",
       "1994     1\n",
       "1996     2\n",
       "1998     3\n",
       "1999     1\n",
       "2001     2\n",
       "2002     2\n",
       "2003     2\n",
       "2004     3\n",
       "2005     1\n",
       "2006     6\n",
       "2007     8\n",
       "2008     7\n",
       "2009    14\n",
       "2010    13\n",
       "2011     8\n",
       "2012    12\n",
       "2013    20\n",
       "2014    26\n",
       "2015    29\n",
       "2016    55\n",
       "2017    57\n",
       "2018    75\n",
       "2019    47\n",
       "2020    45\n",
       "2021    39\n",
       "dtype: int64"
      ]
     },
     "execution_count": 30,
     "metadata": {},
     "output_type": "execute_result"
    }
   ],
   "source": [
    "df.groupby('release_year').size()"
   ]
  },
  {
   "cell_type": "markdown",
   "id": "78573eee-6fdd-4497-a474-14f6899a9f5b",
   "metadata": {},
   "source": [
    "## 12.\tFind how many unique countries are represented in the dataset."
   ]
  },
  {
   "cell_type": "code",
   "execution_count": 27,
   "id": "8de873d5-b558-4398-992d-32bccf27d0ec",
   "metadata": {},
   "outputs": [
    {
     "data": {
      "text/plain": [
       "99"
      ]
     },
     "execution_count": 27,
     "metadata": {},
     "output_type": "execute_result"
    }
   ],
   "source": [
    "df['country'].nunique()\n"
   ]
  },
  {
   "cell_type": "code",
   "execution_count": null,
   "id": "0dae780f-39f1-4a8a-a796-8e8d03cc4393",
   "metadata": {},
   "outputs": [],
   "source": []
  }
 ],
 "metadata": {
  "kernelspec": {
   "display_name": "Python 3 (ipykernel)",
   "language": "python",
   "name": "python3"
  },
  "language_info": {
   "codemirror_mode": {
    "name": "ipython",
    "version": 3
   },
   "file_extension": ".py",
   "mimetype": "text/x-python",
   "name": "python",
   "nbconvert_exporter": "python",
   "pygments_lexer": "ipython3",
   "version": "3.13.3"
  }
 },
 "nbformat": 4,
 "nbformat_minor": 5
}
